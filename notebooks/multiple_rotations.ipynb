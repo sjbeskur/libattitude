{
 "cells": [
  {
   "cell_type": "code",
   "execution_count": 24,
   "metadata": {},
   "outputs": [
    {
     "name": "stdout",
     "output_type": "stream",
     "text": [
      "x_a [0 1 0]\n",
      "\n",
      "R_ba [[ 1.         0.         0.       ]\n",
      " [ 0.         0.8660254  0.5      ]\n",
      " [ 0.        -0.5        0.8660254]]\n",
      "\n",
      "R_cb [[ 1.          0.          0.        ]\n",
      " [ 0.          0.96592583  0.25881905]\n",
      " [ 0.         -0.25881905  0.96592583]]\n",
      "\n",
      "x_b [ 0.         0.8660254 -0.5      ]\n",
      "\n",
      "x_c [ 0.          0.70710678 -0.70710678]\n",
      "\n",
      "R_ca [[ 1.          0.          0.        ]\n",
      " [ 0.          0.70710678  0.70710678]\n",
      " [ 0.         -0.70710678  0.70710678]]\n",
      "\n",
      "X_c2 [ 0.          0.70710678 -0.70710678]\n",
      "\n",
      "r_x45 [ 0.          0.70710678 -0.70710678]\n",
      "\n"
     ]
    }
   ],
   "source": [
    "import numpy as np\n",
    "\n",
    "rads = np.pi / 108.0\n",
    "\n",
    "def rotationX(theta):\n",
    "    matrix = np.array([[1,0,0],\n",
    "                       [0, np.cos(theta), np.sin(theta) ],\n",
    "                       [0, -np.sin(theta), np.cos(theta)]])\n",
    "    return matrix\n",
    "\n",
    "\n",
    "x_a = np.array([0,1,0])\n",
    "print(\"x_a {}\\n\".format(x_a))  \n",
    "\n",
    "# define two rotation matrices\n",
    "R_ba = rotationX(30.0 * (np.pi / 180.0))\n",
    "R_cb = rotationX(15.0 * (np.pi / 180.0))\n",
    "\n",
    "print(\"R_ba {}\\n\".format(R_ba))\n",
    "print(\"R_cb {}\\n\".format(R_cb))\n",
    "\n",
    "# apply first rotation \n",
    "x_b = np.matmul(R_ba, x_a)\n",
    "print(\"x_b {}\\n\".format(x_b))\n",
    "\n",
    "# apply second rotation \n",
    "x_c = np.matmul(R_cb, x_b)\n",
    "print(\"x_c {}\\n\".format(x_c))  # vector after two discrete rotations\n",
    "\n",
    "# now we shortcut and build this into a single matrix\n",
    "R_ca = np.matmul(R_cb, R_ba)\n",
    "print(\"R_ca {}\\n\".format(R_ca))\n",
    "\n",
    "# result is the same as x_c but only one matrix step\n",
    "X_c2 = np.matmul(R_ca, x_a)\n",
    "print(\"X_c2 {}\\n\".format(X_c2))\n",
    "\n",
    "assert(X_c2.all() == x_c.all())\n",
    "\n",
    "R_x45 = rotationX(45.0 * (np.pi / 180.0))\n",
    "r_x = np.matmul(R_x45, x_a)\n",
    "print(\"r_x45 {}\\n\".format(r_x))\n",
    "assert(X_c2.all() == r_x.all())\n",
    "\n"
   ]
  }
 ],
 "metadata": {
  "kernelspec": {
   "display_name": "Python 3",
   "language": "python",
   "name": "python3"
  },
  "language_info": {
   "codemirror_mode": {
    "name": "ipython",
    "version": 3
   },
   "file_extension": ".py",
   "mimetype": "text/x-python",
   "name": "python",
   "nbconvert_exporter": "python",
   "pygments_lexer": "ipython3",
   "version": "3.11.7"
  }
 },
 "nbformat": 4,
 "nbformat_minor": 2
}
