{
 "cells": [
  {
   "cell_type": "code",
   "execution_count": 13,
   "metadata": {},
   "outputs": [
    {
     "name": "stdout",
     "output_type": "stream",
     "text": [
      "Euler [-30,  65.0,  -45]\n",
      "Euler [-0.5235987755982988,  1.1344640137963142,  -0.7853981633974483]\n",
      "Rxyz: [[ 0.29883624 -0.29883624 -0.90630779]\n",
      " [ 0.29194424  0.93280063 -0.21130913]\n",
      " [ 0.9085513  -0.20144452  0.36599815]]\n",
      "euler: (np.float64(-0.5235987755982988), np.float64(1.1344640137963142), np.float64(-0.7853981633974483))\n",
      "phi: -29.999999999999996\n",
      "theta: 65.0\n",
      "psi: -45.0\n"
     ]
    }
   ],
   "source": [
    "import numpy as np\n",
    "\n",
    "def rotationX(theta):\n",
    "    return np.array([[1,0,0,],\n",
    "                    [0,  np.cos(theta), np.sin(theta) ],\n",
    "                    [0, -np.sin(theta),np.cos(theta) ]])\n",
    "\n",
    "def rotationY(theta):\n",
    "    return np.array([[np.cos(theta),0, -np.sin(theta)],\n",
    "                    [0, 1, 0 ],\n",
    "                    [np.sin(theta), 0, np.cos(theta) ]])\n",
    "\n",
    "def rotationZ(theta):\n",
    "    return np.array([[np.cos(theta) , np.sin(theta), 0  ],\n",
    "                    [-np.sin(theta), np.cos(theta), 0  ],\n",
    "                    [0, 0, 1 ]])\n",
    "\n",
    "def radToDeg(rad):\n",
    "    return rad * (180.0/np.pi)\n",
    "\n",
    "def degToRad(deg):\n",
    "    return deg * (np.pi/180.0)\n",
    "\n",
    "def rotationEulerXYZ(phi, theta, psi):\n",
    "    Rx = rotationX(phi)\n",
    "    Ry = rotationY(theta)\n",
    "    Rz = rotationZ(psi) \n",
    "    R = np.matmul(Rx, np.matmul(Ry, Rz))\n",
    "    return R\n",
    "\n",
    "def eulerAngleFromRot(Rxyz):\n",
    "    phi   = np.arctan2(Rxyz[1][2], Rxyz[2][2])\n",
    "    theta = -np.arcsin(Rxyz[0][2])\n",
    "    psi   = np.arctan2(Rxyz[0][1], Rxyz[0][0])\n",
    "    return (phi, theta, psi)\n",
    "\n",
    "\n",
    "\n",
    "phi_deg    = -30\n",
    "theta_deg  = 65.0\n",
    "psi_deg    = -45\n",
    "\n",
    "print(f\"Euler [{phi_deg},  {theta_deg},  {psi_deg}]\")\n",
    "\n",
    "phi    = degToRad(phi_deg)\n",
    "theta  = degToRad(theta_deg)\n",
    "psi    = degToRad(psi_deg)\n",
    "\n",
    "print(f\"Euler [{phi},  {theta},  {psi}]\")\n",
    "\n",
    "Rxyz = rotationEulerXYZ(phi, theta, psi)\n",
    "print(f\"Rxyz: {Rxyz}\")\n",
    "\n",
    "attitude = eulerAngleFromRot(Rxyz)\n",
    "print(f\"euler: {attitude}\")\n",
    "print(f\"phi: {radToDeg(attitude[0])}\")\n",
    "print(f\"theta: {radToDeg(attitude[1])}\")\n",
    "print(f\"psi: {radToDeg(attitude[2])}\")\n"
   ]
  }
 ],
 "metadata": {
  "kernelspec": {
   "display_name": "mytest",
   "language": "python",
   "name": "python3"
  },
  "language_info": {
   "codemirror_mode": {
    "name": "ipython",
    "version": 3
   },
   "file_extension": ".py",
   "mimetype": "text/x-python",
   "name": "python",
   "nbconvert_exporter": "python",
   "pygments_lexer": "ipython3",
   "version": "3.12.3"
  }
 },
 "nbformat": 4,
 "nbformat_minor": 2
}
