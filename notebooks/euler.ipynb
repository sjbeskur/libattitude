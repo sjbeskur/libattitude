{
 "cells": [
  {
   "cell_type": "code",
   "execution_count": 11,
   "metadata": {},
   "outputs": [
    {
     "name": "stdout",
     "output_type": "stream",
     "text": [
      "Euler [-30,  65.0,  -45]\n",
      "Euler [-0.5235987755982988,  1.1344640137963142,  -0.7853981633974483]\n",
      "Rxyz: [[ 0.29883624 -0.29883624 -0.90630779]\n",
      " [ 0.29194424  0.93280063 -0.21130913]\n",
      " [ 0.9085513  -0.20144452  0.36599815]]\n"
     ]
    },
    {
     "ename": "TypeError",
     "evalue": "return arrays must be of ArrayType",
     "output_type": "error",
     "traceback": [
      "\u001b[0;31m---------------------------------------------------------------------------\u001b[0m",
      "\u001b[0;31mTypeError\u001b[0m                                 Traceback (most recent call last)",
      "Cell \u001b[0;32mIn[11], line 54\u001b[0m\n\u001b[1;32m     51\u001b[0m Rxyz \u001b[38;5;241m=\u001b[39m rotationEulerXYZ(phi, theta, psi)\n\u001b[1;32m     52\u001b[0m \u001b[38;5;28mprint\u001b[39m(\u001b[38;5;124mf\u001b[39m\u001b[38;5;124m\"\u001b[39m\u001b[38;5;124mRxyz: \u001b[39m\u001b[38;5;132;01m{\u001b[39;00mRxyz\u001b[38;5;132;01m}\u001b[39;00m\u001b[38;5;124m\"\u001b[39m)\n\u001b[0;32m---> 54\u001b[0m ea \u001b[38;5;241m=\u001b[39m \u001b[43meulerAngleFromRot\u001b[49m\u001b[43m(\u001b[49m\u001b[43mRxyz\u001b[49m\u001b[43m)\u001b[49m\n\u001b[1;32m     55\u001b[0m \u001b[38;5;28mprint\u001b[39m(\u001b[38;5;124mf\u001b[39m\u001b[38;5;124m\"\u001b[39m\u001b[38;5;124meuler: \u001b[39m\u001b[38;5;132;01m{\u001b[39;00mea\u001b[38;5;132;01m}\u001b[39;00m\u001b[38;5;124m\"\u001b[39m)\n",
      "Cell \u001b[0;32mIn[11], line 32\u001b[0m, in \u001b[0;36meulerAngleFromRot\u001b[0;34m(Rxyz)\u001b[0m\n\u001b[1;32m     31\u001b[0m \u001b[38;5;28;01mdef\u001b[39;00m \u001b[38;5;21meulerAngleFromRot\u001b[39m(Rxyz):\n\u001b[0;32m---> 32\u001b[0m     phi   \u001b[38;5;241m=\u001b[39m \u001b[43mnp\u001b[49m\u001b[38;5;241;43m.\u001b[39;49m\u001b[43marctan2\u001b[49m\u001b[43m(\u001b[49m\u001b[43mRxyz\u001b[49m\u001b[43m[\u001b[49m\u001b[38;5;241;43m1\u001b[39;49m\u001b[43m]\u001b[49m\u001b[43m,\u001b[49m\u001b[43m[\u001b[49m\u001b[38;5;241;43m2\u001b[39;49m\u001b[43m]\u001b[49m\u001b[43m,\u001b[49m\u001b[43m \u001b[49m\u001b[43mRxyz\u001b[49m\u001b[43m[\u001b[49m\u001b[38;5;241;43m2\u001b[39;49m\u001b[43m]\u001b[49m\u001b[43m[\u001b[49m\u001b[38;5;241;43m2\u001b[39;49m\u001b[43m]\u001b[49m\u001b[43m)\u001b[49m\n\u001b[1;32m     33\u001b[0m     theta \u001b[38;5;241m=\u001b[39m \u001b[38;5;241m-\u001b[39mnp\u001b[38;5;241m.\u001b[39marcsin(Rxyz[\u001b[38;5;241m0\u001b[39m],[\u001b[38;5;241m2\u001b[39m])\n\u001b[1;32m     34\u001b[0m     psi   \u001b[38;5;241m=\u001b[39m np\u001b[38;5;241m.\u001b[39marctan2(Rxyz[\u001b[38;5;241m0\u001b[39m],[\u001b[38;5;241m1\u001b[39m], Rxyz[\u001b[38;5;241m0\u001b[39m][\u001b[38;5;241m0\u001b[39m])\n",
      "\u001b[0;31mTypeError\u001b[0m: return arrays must be of ArrayType"
     ]
    }
   ],
   "source": [
    "import numpy as np\n",
    "\n",
    "def rotationX(theta):\n",
    "    return np.array([[1,0,0,],\n",
    "                    [0,  np.cos(theta), np.sin(theta) ],\n",
    "                    [0, -np.sin(theta),np.cos(theta) ]])\n",
    "\n",
    "def rotationY(theta):\n",
    "    return np.array([[np.cos(theta),0, -np.sin(theta)],\n",
    "                    [0, 1, 0 ],\n",
    "                    [np.sin(theta), 0, np.cos(theta) ]])\n",
    "\n",
    "def rotationZ(theta):\n",
    "    return np.array([[np.cos(theta) , np.sin(theta), 0  ],\n",
    "                    [-np.sin(theta), np.cos(theta), 0  ],\n",
    "                    [0, 0, 1 ]])\n",
    "\n",
    "def radToDeg(rad):\n",
    "    return rad * (180.0/np.pi)\n",
    "\n",
    "def degToRad(deg):\n",
    "    return deg * (np.pi/180.0)\n",
    "\n",
    "def rotationEulerXYZ(phi, theta, psi):\n",
    "    Rx = rotationX(phi)\n",
    "    Ry = rotationY(theta)\n",
    "    Rz = rotationZ(psi) \n",
    "    R = np.matmul(Rx, np.matmul(Ry, Rz))\n",
    "    return R\n",
    "\n",
    "def eulerAngleFromRot(Rxyz):\n",
    "    phi   = np.arctan2(Rxyz[1][2], Rxyz[2][2])\n",
    "    theta = -np.arcsin(Rxyz[0][2])\n",
    "    psi   = np.arctan2(Rxyz[0][1], Rxyz[0][0])\n",
    "    return (phi, theta, psi)\n",
    "\n",
    "\n",
    "\n",
    "phi_deg    = -30\n",
    "theta_deg  = 65.0\n",
    "psi_deg    = -45\n",
    "\n",
    "print(f\"Euler [{phi_deg},  {theta_deg},  {psi_deg}]\")\n",
    "\n",
    "phi    = degToRad(phi_deg)\n",
    "theta  = degToRad(theta_deg)\n",
    "psi    = degToRad(psi_deg)\n",
    "\n",
    "print(f\"Euler [{phi},  {theta},  {psi}]\")\n",
    "\n",
    "Rxyz = rotationEulerXYZ(phi, theta, psi)\n",
    "print(f\"Rxyz: {Rxyz}\")\n",
    "\n",
    "ea = eulerAngleFromRot(Rxyz)\n",
    "print(f\"euler: {ea}\")"
   ]
  }
 ],
 "metadata": {
  "kernelspec": {
   "display_name": "mytest",
   "language": "python",
   "name": "python3"
  },
  "language_info": {
   "codemirror_mode": {
    "name": "ipython",
    "version": 3
   },
   "file_extension": ".py",
   "mimetype": "text/x-python",
   "name": "python",
   "nbconvert_exporter": "python",
   "pygments_lexer": "ipython3",
   "version": "3.12.3"
  }
 },
 "nbformat": 4,
 "nbformat_minor": 2
}
