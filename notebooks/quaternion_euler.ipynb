{
 "cells": [
  {
   "cell_type": "code",
   "execution_count": 39,
   "metadata": {},
   "outputs": [],
   "source": [
    "import numpy as np \n",
    "import matplotlib.pyplot as plt \n",
    "\n",
    "def get_sin_cos(theta):\n",
    "    return ( np.sin(theta), np.cos(theta))\n",
    "\n",
    "def rad2deg(rad):\n",
    "    return np.array(rad) * (180.0/np.pi)\n",
    "\n",
    "def deg2rad(deg):\n",
    "    return np.array(deg) * (np.pi/180.0)\n",
    "\n",
    "\n",
    "def printEulerAngles(title, atd):\n",
    "    print(f\"Euler Angles: {title}  [{atd[0]}, {atd[1]}, {atd[2]}]\")\n",
    "\n",
    "def printQuaternion(title, quat):\n",
    "    print(f\"Euler Angles: {title}  [{quat[0]}, {quat[1]}, {quat[2]}, {quat[3]}]\")    "
   ]
  },
  {
   "cell_type": "code",
   "execution_count": 42,
   "metadata": {},
   "outputs": [],
   "source": [
    "def quaternionFromEuler(attitude_xyz):\n",
    "    c1 = np.cos( 0.5 * attitude_xyz[0])\n",
    "    s1 = np.sin( 0.5 * attitude_xyz[0])\n",
    "    c2 = np.cos( 0.5 * attitude_xyz[1])\n",
    "    s2 = np.sin( 0.5 * attitude_xyz[1])\n",
    "    c3 = np.cos( 0.5 * attitude_xyz[2])\n",
    "    s3 = np.sin( 0.5 * attitude_xyz[2])\n",
    "\n",
    "    q0 = c1*c2*c3 + s1*s2*s3\n",
    "    q1 = s1*c2*c3 - c1*s2*s3\n",
    "    q2 = c1*s2*c3 + s1*c2*s3\n",
    "    q3 = c1*c2*s3 - s1*s2*c3\n",
    "\n",
    "    return np.array([q0,q1,q2,q3])\n",
    "\n",
    "\n",
    "def eulerXYZFromQuaternion(quat):\n",
    "    q0 = quat[0]\n",
    "    q1 = quat[1]\n",
    "    q2 = quat[2]\n",
    "    q3 = quat[3]\n",
    "\n",
    "    r11 = q0*q0 + q1*q1 - q2*q2 - q3 * q3\n",
    "    r12 = 2.0 * (q1*q2 + q0*q3)\n",
    "    r13 = 2.0 * (q1*q3 - q0*q2)\n",
    "    r23 = 2.0 * (q2*q3 + q0*q1)\n",
    "    r33 = q0*q0 - q1*q1 - q2*q2 + q3*q3\n",
    "\n",
    "    phi = np.arctan2(r23, r33)\n",
    "    the = -np.arcsin(r13)\n",
    "    psi = np.arctan2(r12, r11)\n",
    "\n",
    "    return np.array([phi, the, psi])\n"
   ]
  },
  {
   "cell_type": "code",
   "execution_count": 51,
   "metadata": {},
   "outputs": [
    {
     "name": "stdout",
     "output_type": "stream",
     "text": [
      "Euler Angles: Euler  [0.7262675395550039, 0.2802526287781224, -0.16074329362321776, 0.6067582044000992]\n",
      "Euler Angles: Quat  [15.000000000000005, -35.0, 75.0]\n"
     ]
    }
   ],
   "source": [
    "attitude_test = deg2rad([15, -35, 75])\n",
    "\n",
    "q = quaternionFromEuler(attitude_test)\n",
    "\n",
    "printQuaternion(\"Euler\", q)\n",
    "\n",
    "attitude = eulerXYZFromQuaternion(q)\n",
    "printEulerAngles(\"Quat\", rad2deg(attitude))\n",
    "# printEulerAngles(\"e1\", e1)"
   ]
  }
 ],
 "metadata": {
  "kernelspec": {
   "display_name": "mytest",
   "language": "python",
   "name": "python3"
  },
  "language_info": {
   "codemirror_mode": {
    "name": "ipython",
    "version": 3
   },
   "file_extension": ".py",
   "mimetype": "text/x-python",
   "name": "python",
   "nbconvert_exporter": "python",
   "pygments_lexer": "ipython3",
   "version": "3.12.3"
  }
 },
 "nbformat": 4,
 "nbformat_minor": 2
}
