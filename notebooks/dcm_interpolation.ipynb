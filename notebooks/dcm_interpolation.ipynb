{
 "cells": [
  {
   "cell_type": "code",
   "execution_count": 27,
   "metadata": {},
   "outputs": [],
   "source": [
    "import numpy as np\n",
    "import rotations as rots\n"
   ]
  },
  {
   "cell_type": "markdown",
   "metadata": {},
   "source": [
    "This whole exercise is to basically prove that you can linear interpolate using DCM's.\n"
   ]
  },
  {
   "cell_type": "code",
   "execution_count": 28,
   "metadata": {},
   "outputs": [],
   "source": [
    "def linearInterpolate (R1, R2, t):\n",
    "    return (R1*(1-t) + R2 *t)"
   ]
  },
  {
   "cell_type": "code",
   "execution_count": 29,
   "metadata": {},
   "outputs": [
    {
     "name": "stdout",
     "output_type": "stream",
     "text": [
      "R1 [[ 1.         0.         0.       ]\n",
      " [ 0.         0.8660254  0.5      ]\n",
      " [ 0.        -0.5        0.8660254]]\n",
      "R2 [[ 1.          0.          0.        ]\n",
      " [ 0.         -0.64278761  0.76604444]\n",
      " [ 0.         -0.76604444 -0.64278761]]\n"
     ]
    }
   ],
   "source": [
    "R1 = rots.rotationX(30.0)\n",
    "R2 = rots.rotationX(130.0)\n",
    "\n",
    "print(\"R1 {}\".format(R1))\n",
    "print(\"R2 {}\".format(R2))\n"
   ]
  },
  {
   "cell_type": "code",
   "execution_count": 30,
   "metadata": {},
   "outputs": [
    {
     "name": "stdout",
     "output_type": "stream",
     "text": [
      "R_interpolated [[ 1.          0.          0.        ]\n",
      " [ 0.          0.1116189   0.63302222]\n",
      " [ 0.         -0.63302222  0.1116189 ]]\n"
     ]
    }
   ],
   "source": [
    "R_interp = linearInterpolate(R1, R2, 0.5)\n",
    "print(\"R_interpolated {}\".format(R_interp))"
   ]
  },
  {
   "cell_type": "code",
   "execution_count": 49,
   "metadata": {},
   "outputs": [
    {
     "name": "stdout",
     "output_type": "stream",
     "text": [
      "R_inter_det 0.4131759111665348\n",
      "\n",
      "R_inter_eye [[1.00000000e+00 0.00000000e+00 0.00000000e+00]\n",
      " [0.00000000e+00 4.13175911e-01 6.69020536e-18]\n",
      " [0.00000000e+00 6.69020536e-18 4.13175911e-01]]\n",
      "\n",
      "eye: [[1. 0. 0.]\n",
      " [0. 1. 0.]\n",
      " [0. 0. 1.]]\n",
      "\n"
     ]
    },
    {
     "ename": "AssertionError",
     "evalue": "",
     "output_type": "error",
     "traceback": [
      "\u001b[0;31m---------------------------------------------------------------------------\u001b[0m",
      "\u001b[0;31mAssertionError\u001b[0m                            Traceback (most recent call last)",
      "Cell \u001b[0;32mIn[49], line 9\u001b[0m\n\u001b[1;32m      5\u001b[0m \u001b[38;5;28mprint\u001b[39m(\u001b[38;5;124m\"\u001b[39m\u001b[38;5;124mR_inter_eye \u001b[39m\u001b[38;5;132;01m{}\u001b[39;00m\u001b[38;5;130;01m\\n\u001b[39;00m\u001b[38;5;124m\"\u001b[39m\u001b[38;5;241m.\u001b[39mformat(R_interp_eye))  \u001b[38;5;66;03m# this should be identity if valid rotation matrix\u001b[39;00m\n\u001b[1;32m      7\u001b[0m \u001b[38;5;28mprint\u001b[39m(\u001b[38;5;124m\"\u001b[39m\u001b[38;5;124meye: \u001b[39m\u001b[38;5;132;01m{}\u001b[39;00m\u001b[38;5;130;01m\\n\u001b[39;00m\u001b[38;5;124m\"\u001b[39m\u001b[38;5;241m.\u001b[39mformat(np\u001b[38;5;241m.\u001b[39midentity(\u001b[38;5;241m3\u001b[39m)))\n\u001b[0;32m----> 9\u001b[0m \u001b[38;5;28;01massert\u001b[39;00m(R_interp_eye\u001b[38;5;241m.\u001b[39mall() \u001b[38;5;241m!=\u001b[39m np\u001b[38;5;241m.\u001b[39midentity(\u001b[38;5;241m3\u001b[39m)\u001b[38;5;241m.\u001b[39mall())\n\u001b[1;32m     10\u001b[0m \u001b[38;5;66;03m# This is not a valid rotation matrix\u001b[39;00m\n\u001b[1;32m     11\u001b[0m \u001b[38;5;66;03m# the transpose does not equal the inverse.  \u001b[39;00m\n\u001b[1;32m     12\u001b[0m \u001b[38;5;28;01massert\u001b[39;00m(R_interp_det \u001b[38;5;241m!=\u001b[39m \u001b[38;5;241m1\u001b[39m)\n",
      "\u001b[0;31mAssertionError\u001b[0m: "
     ]
    }
   ],
   "source": [
    "R_interp_det =  np.linalg.det(R_interp)\n",
    "R_interp_eye = np.matmul(R_interp, np.transpose(R_interp))\n",
    "\n",
    "print(\"R_inter_det {}\\n\".format(R_interp_det))\n",
    "print(\"R_inter_eye {}\\n\".format(R_interp_eye))  # this should be identity if valid rotation matrix\n",
    "\n",
    "print(\"eye: {}\\n\".format(np.identity(3)))\n",
    "\n",
    "# This is not a valid rotation matrix\n",
    "# the transpose does not equal the inverse.  \n",
    "assert(R_interp_det != 1)\n"
   ]
  },
  {
   "cell_type": "code",
   "execution_count": 50,
   "metadata": {},
   "outputs": [
    {
     "name": "stdout",
     "output_type": "stream",
     "text": [
      "truth [[ 1.          0.          0.        ]\n",
      " [ 0.          0.17364818  0.98480775]\n",
      " [ 0.         -0.98480775  0.17364818]]\n"
     ]
    }
   ],
   "source": [
    "R_truth = rots.rotationX(80.0) # this is halfway between 30 and 130\n",
    "print(\"truth {}\".format(R_truth))"
   ]
  }
 ],
 "metadata": {
  "kernelspec": {
   "display_name": "Python 3",
   "language": "python",
   "name": "python3"
  },
  "language_info": {
   "codemirror_mode": {
    "name": "ipython",
    "version": 3
   },
   "file_extension": ".py",
   "mimetype": "text/x-python",
   "name": "python",
   "nbconvert_exporter": "python",
   "pygments_lexer": "ipython3",
   "version": "3.11.7"
  }
 },
 "nbformat": 4,
 "nbformat_minor": 2
}
