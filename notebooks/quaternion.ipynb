{
 "cells": [
  {
   "cell_type": "code",
   "execution_count": 1,
   "metadata": {},
   "outputs": [],
   "source": [
    "import numpy as np \n",
    "import matplotlib.pyplot as plt \n",
    "\n",
    "def get_sin_cos(theta):\n",
    "    return (np.cos(theta), np.sin(theta))\n",
    "\n",
    "def rad2deg(rad):\n",
    "    return np.array(rad) * (180.0/np.pi)\n",
    "\n",
    "def deg2rad(deg):\n",
    "    return np.array(deg) * (np.pi/180.0)\n",
    "\n",
    "def rotationX(theta):\n",
    "    sin_theta, cos_theta = get_sin_cos(theta)\n",
    "    return np.array([[1,0,0,],\n",
    "                    [0,  cos_theta, sin_theta ],\n",
    "                    [0, -sin_theta, cos_theta ]])\n",
    "\n",
    "def rotationY(theta):\n",
    "    sin_theta, cos_theta = get_sin_cos(theta)\n",
    "    return np.array([[cos_theta,0, -sin_theta],\n",
    "                    [0, 1, 0 ],\n",
    "                    [sin_theta, 0, cos_theta ]])\n",
    "\n",
    "def rotationZ(theta):\n",
    "    sin_theta, cos_theta = get_sin_cos(theta)\n",
    "    return np.array([[cos_theta , sin_theta, 0  ],\n",
    "                    [-sin_theta , cos_theta, 0  ],\n",
    "                    [0, 0, 1 ]])\n",
    "\n",
    "def printQuaternion(title, quat):\n",
    "    print(f\"Quaternion {title} [{quat[0]},  {quat[1]},  {quat[2]}, {quat[3]}]\")\n",
    "\n"
   ]
  },
  {
   "cell_type": "code",
   "execution_count": null,
   "metadata": {},
   "outputs": [],
   "source": [
    "def quatNorm(quat):\n",
    "    q0 = quat[0]\n",
    "    q1 = quat[1]\n",
    "    q2 = quat[2]\n",
    "    q3 = quat[3]\n",
    "    return np.sqrt(q0 * q0 + q1 * q1 + q2 * q2 + q3 * q3)\n",
    "\n",
    "def conjugate(quat):\n",
    "    q0 = quat[0]\n",
    "    q1 = quat[1]\n",
    "    q2 = quat[2]\n",
    "    q3 = quat[3]\n",
    "    return np.array([q0,-q1,-q2,-q3])\n",
    "\n",
    "def quaternionInv(quat):\n",
    "    conj = conjugate(quat)\n",
    "    norm = norm(quatNorm)\n",
    "    return conj/norm\n",
    "\n",
    "def quaternionMult(quat1, quat2):\n",
    "    q0 = quat1[0]\n",
    "    q1 = quat1[1]\n",
    "    q2 = quat1[2]\n",
    "    q3 = quat1[3]\n",
    "    Q = np.array([[q0, -q1, -q2, -q3],\n",
    "              [q1,  q0,  q3, -q2 ],\n",
    "              [q2, -q3,  q0, q1 ],\n",
    "              [q3,  q2, -q1, q0 ]])\n",
    "    return np.matmul(Q, quat2)"
   ]
  }
 ],
 "metadata": {
  "kernelspec": {
   "display_name": "mytest",
   "language": "python",
   "name": "python3"
  },
  "language_info": {
   "codemirror_mode": {
    "name": "ipython",
    "version": 3
   },
   "file_extension": ".py",
   "mimetype": "text/x-python",
   "name": "python",
   "nbconvert_exporter": "python",
   "pygments_lexer": "ipython3",
   "version": "3.12.3"
  }
 },
 "nbformat": 4,
 "nbformat_minor": 2
}
